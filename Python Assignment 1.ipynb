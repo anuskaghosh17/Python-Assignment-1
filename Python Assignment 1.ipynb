{
 "cells": [
  {
   "cell_type": "code",
   "execution_count": 53,
   "id": "cd9b5544-3c49-47cf-acdd-4af6ff519c66",
   "metadata": {},
   "outputs": [
    {
     "name": "stdin",
     "output_type": "stream",
     "text": [
      "Enter first number: 10\n",
      "Enter second number: 3\n"
     ]
    },
    {
     "name": "stdout",
     "output_type": "stream",
     "text": [
      "Addition: 13\n",
      "Subtraction: 7\n",
      "Multiplication: 30\n",
      "division: 3.33\n",
      "Modulus: 1\n",
      "Exponentiation: 1000\n",
      "Floor Division: 3\n"
     ]
    }
   ],
   "source": [
    "# Input of two numbers by the user\n",
    "a=int(input(\"Enter first number:\"))\n",
    "b=int(input(\"Enter second number:\"))\n",
    "\n",
    "# Perform the following operations\n",
    "print(\"Addition:\",a+b)\n",
    "print(\"Subtraction:\",a-b)\n",
    "print(\"Multiplication:\",a*b)\n",
    "print('division:',round(a/b,2))\n",
    "print(\"Modulus:\",a%b)\n",
    "print(\"Exponentiation:\",a**b)\n",
    "print(\"Floor Division:\",a//b)"
   ]
  },
  {
   "cell_type": "code",
   "execution_count": 31,
   "id": "58688298-19bf-49b0-9259-e5a08b99718c",
   "metadata": {},
   "outputs": [
    {
     "name": "stdin",
     "output_type": "stream",
     "text": [
      "Enter first number: 1\n",
      "Enter second number: 2\n"
     ]
    },
    {
     "name": "stdout",
     "output_type": "stream",
     "text": [
      "False\n",
      "False\n",
      "True\n"
     ]
    }
   ],
   "source": [
    "# Input of two numbers by the user\n",
    "a=int(input(\"Enter first number:\"))\n",
    "b=int(input(\"Enter second number:\"))\n",
    "\n",
    "# Comparison between the two numbers using Comparison operators\n",
    "print(a>b)\n",
    "print(a==b)\n",
    "print(a<=b)"
   ]
  },
  {
   "cell_type": "code",
   "execution_count": 19,
   "id": "69317ce3-8140-46ba-84b1-5c57b355b5d5",
   "metadata": {},
   "outputs": [
    {
     "name": "stdin",
     "output_type": "stream",
     "text": [
      "Enter first boolean (True or False):  true\n",
      "Enter second boolean (True or False):  false\n",
      "Enter third boolean (True or False):  false\n"
     ]
    },
    {
     "name": "stdout",
     "output_type": "stream",
     "text": [
      "AND operation result: False\n",
      "OR operation result: True\n",
      "Negation results: False True True\n"
     ]
    }
   ],
   "source": [
    "# Taking three boolean values as input\n",
    "a = input(\"Enter first boolean (True or False): \").strip().lower() == 'true'\n",
    "b = input(\"Enter second boolean (True or False): \").strip().lower() == 'true'\n",
    "c = input(\"Enter third boolean (True or False): \").strip().lower() == 'true'\n",
    "\n",
    "# Using logical operators\n",
    "print(\"AND operation result:\", a and b and c)\n",
    "print(\"OR operation result:\", a or b or c)\n",
    "print(\"Negation results:\", not a, not b, not c)\n"
   ]
  },
  {
   "cell_type": "code",
   "execution_count": 1,
   "id": "73a2a05a-99e0-4def-af09-413fdf1ba6be",
   "metadata": {},
   "outputs": [
    {
     "name": "stdin",
     "output_type": "stream",
     "text": [
      "Enter a string: ANUSKA\n"
     ]
    },
    {
     "name": "stdout",
     "output_type": "stream",
     "text": [
      "The length of the string is: 6\n",
      "The first character is: A , The last character is: A\n",
      "The string in reverse order is: AKSUNA\n",
      "The string in uppercase is: ANUSKA , The string in lowercase is: anuska\n"
     ]
    }
   ],
   "source": [
    "#Take a string input from the user\n",
    "str=input(\"Enter a string:\")\n",
    "\n",
    "# Display the following\n",
    "print(\"The length of the string is:\",len(str))\n",
    "print(\"The first character is:\",str[0],\",\",\"The last character is:\",str[-1])\n",
    "print(\"The string in reverse order is:\",str[::-1])\n",
    "print(\"The string in uppercase is:\",str.upper(),\",\",\"The string in lowercase is:\",str.lower())"
   ]
  },
  {
   "cell_type": "code",
   "execution_count": 1,
   "id": "3636c6ba-77a1-45bb-b00f-a6704ea5be46",
   "metadata": {},
   "outputs": [
    {
     "name": "stdin",
     "output_type": "stream",
     "text": [
      "Enter your name: Anuska\n",
      "Enter your age: 22\n"
     ]
    },
    {
     "name": "stdout",
     "output_type": "stream",
     "text": [
      "Hello Anuska , you are 22 years old.\n"
     ]
    }
   ],
   "source": [
    "# Take user's name and age as input\n",
    "Name=input(\"Enter your name:\")\n",
    "Age=int(input(\"Enter your age:\"))\n",
    "\n",
    "# Display the message\n",
    "print(\"Hello\",Name,\",\",\"you are\",Age,\"years old.\")"
   ]
  },
  {
   "cell_type": "code",
   "execution_count": 17,
   "id": "7a7198c3-073d-4c49-aa47-5e713b54f458",
   "metadata": {},
   "outputs": [
    {
     "name": "stdin",
     "output_type": "stream",
     "text": [
      "Enter a sentence: My name is Anuska Ghosh\n",
      "Enter a word to search: name\n"
     ]
    },
    {
     "name": "stdout",
     "output_type": "stream",
     "text": [
      "3\n"
     ]
    }
   ],
   "source": [
    "# Take a sentence as input from the user\n",
    "sentence=input(\"Enter a sentence:\")\n",
    "\n",
    "# Input a word to search in the sentence\n",
    "word=input(\"Enter a word to search:\")\n",
    "\n",
    "# Checking whether the word exists in the sentence or not\n",
    "if word in sentence:\n",
    "    print(sentence.index(word))\n",
    "else:\n",
    "    print(\"Word not found\")"
   ]
  },
  {
   "cell_type": "code",
   "execution_count": 51,
   "id": "07810f23-9869-47a2-a869-2fe53491eca9",
   "metadata": {},
   "outputs": [
    {
     "name": "stdin",
     "output_type": "stream",
     "text": [
      " 1\n",
      " 2\n",
      " 3\n",
      " 4\n",
      " 5\n"
     ]
    },
    {
     "name": "stdout",
     "output_type": "stream",
     "text": [
      "[1, 2, 3, 4, 5]\n",
      "The sum of all the numbers in the list: 15\n",
      "The largest number in the list is: 5\n",
      "The smallest number in the list is: 1\n"
     ]
    }
   ],
   "source": [
    "# Input of 5 numbers from the user\n",
    "num1=int(input())\n",
    "num2=int(input())\n",
    "num3=int(input())\n",
    "num4=int(input())\n",
    "num5=int(input())\n",
    "\n",
    "# Create a list of 5 numbers\n",
    "list=[num1,num2,num3,num4,num5]\n",
    "\n",
    "# Printing the list\n",
    "print(list)\n",
    "\n",
    "# Display the sum of all the numbers in the list\n",
    "print(\"The sum of all the numbers in the list:\",sum(list))\n",
    "\n",
    "# Find the largest and smallest number in the list\n",
    "print(\"The largest number in the list is:\",max(list))\n",
    "print(\"The smallest number in the list is:\",min(list))"
   ]
  },
  {
   "cell_type": "code",
   "execution_count": 39,
   "id": "4c5b5760-74f3-4cd5-87c7-ca556d2d3e10",
   "metadata": {},
   "outputs": [
    {
     "name": "stdout",
     "output_type": "stream",
     "text": [
      "The updated list of 5 favorite fruits is: ['mango', 'guava', 'apple', 'banana', 'orange']\n"
     ]
    }
   ],
   "source": [
    "# Create a list of 5 favorite fruits\n",
    "fruits=['mango','watermelon','guava','apple','banana']\n",
    "\n",
    "# Add one more fruit to the list\n",
    "fruits.append('orange')\n",
    "\n",
    "# Remove the second fruit from the list\n",
    "fruits.remove('watermelon')\n",
    "\n",
    "# Print the updated list\n",
    "print(\"The updated list of 5 favorite fruits is:\",fruits)"
   ]
  },
  {
   "cell_type": "code",
   "execution_count": 3,
   "id": "9e79637d-61b1-4f1b-9475-919f2e35f0af",
   "metadata": {},
   "outputs": [
    {
     "name": "stdin",
     "output_type": "stream",
     "text": [
      " 1\n",
      " 2\n",
      " 3\n",
      " 4\n",
      " 5\n"
     ]
    },
    {
     "name": "stdout",
     "output_type": "stream",
     "text": [
      "[1, 2, 3, 4, 5]\n",
      "The list in ascending order: [1, 2, 3, 4, 5]\n",
      "The list in descending order: [5, 4, 3, 2, 1]\n"
     ]
    }
   ],
   "source": [
    "# Input of 5 numbers from the user\n",
    "num1=int(input())\n",
    "num2=int(input())\n",
    "num3=int(input())\n",
    "num4=int(input())\n",
    "num5=int(input())\n",
    "\n",
    "# Create a list of 5 numbers\n",
    "list=[num1,num2,num3,num4,num5]\n",
    "\n",
    "# Printing the list\n",
    "print(list)\n",
    "    \n",
    "# Sort the list in ascending order\n",
    "list.sort()\n",
    "print(\"The list in ascending order:\",list)\n",
    "\n",
    "# Sort the list in descending order\n",
    "list.sort(reverse=True)\n",
    "print(\"The list in descending order:\",list)"
   ]
  },
  {
   "cell_type": "code",
   "execution_count": 9,
   "id": "7fe217ec-aed5-4650-8738-4395bbf19583",
   "metadata": {},
   "outputs": [
    {
     "name": "stdout",
     "output_type": "stream",
     "text": [
      "[1, 2, 3, 4, 5]\n",
      "[6, 7, 8, 9, 10]\n",
      "[3, 4, 5, 6, 7, 8]\n"
     ]
    }
   ],
   "source": [
    "# Enter the list of numbers given\n",
    "numbers=[ 1, 2, 3, 4, 5, 6, 7, 8, 9, 10]\n",
    "\n",
    "# Print the first 5 elements\n",
    "print(numbers[0:5])\n",
    "\n",
    "# Print the last 5 elements\n",
    "print(numbers[-5:])\n",
    "\n",
    "# Print the elements from index 2 to index 7\n",
    "print(numbers[2:8])"
   ]
  },
  {
   "cell_type": "code",
   "execution_count": 1,
   "id": "3e6b7dc5-fe0c-47c7-8e30-16e7eef73c6c",
   "metadata": {},
   "outputs": [
    {
     "name": "stdin",
     "output_type": "stream",
     "text": [
      "Enter the name of student 1: ANUSKA\n",
      "Enter the score for subject 1 for ANUSKA: 19\n",
      "Enter the score for subject 2 for ANUSKA: 18\n",
      "Enter the score for subject 3 for ANUSKA: 20\n",
      "Enter the name of student 2: ANANNYA\n",
      "Enter the score for subject 1 for ANANNYA: 17.5\n",
      "Enter the score for subject 2 for ANANNYA: 18.5\n",
      "Enter the score for subject 3 for ANANNYA: 19.5\n",
      "Enter the name of student 3: ANUSHKA\n",
      "Enter the score for subject 1 for ANUSHKA: 17\n",
      "Enter the score for subject 2 for ANUSHKA: 18.5\n",
      "Enter the score for subject 3 for ANUSHKA: 16\n"
     ]
    },
    {
     "name": "stdout",
     "output_type": "stream",
     "text": [
      "\n",
      "Student Average Scores:\n",
      "ANUSKA: 19.0\n",
      "ANANNYA: 18.5\n",
      "ANUSHKA: 17.166666666666668\n"
     ]
    }
   ],
   "source": [
    "# Creating an empty list for names of students\n",
    "students = []\n",
    "\n",
    "# Input of 3 students' names\n",
    "for i in range(3):\n",
    "    name = input(f\"Enter the name of student {i + 1}:\")\n",
    "    \n",
    "    # Creating an empty list for scores\n",
    "    scores = []\n",
    "    \n",
    "    # Input their respective scores in 3 subjects\n",
    "    for j in range(3):\n",
    "        score = float(input(f\"Enter the score for subject {j + 1} for {name}:\"))\n",
    "        scores.append(score)\n",
    "    \n",
    "    # Append the student name and scores to the students list\n",
    "    students.append([name, scores])\n",
    "\n",
    "# Print each student's name and their average score\n",
    "print(\"\\nStudent Average Scores:\")\n",
    "for student in students:\n",
    "    name = student[0]\n",
    "    scores = student[1]\n",
    "    average_score = sum(scores) / len(scores)\n",
    "    print(f\"{name}: {average_score}\")    "
   ]
  },
  {
   "cell_type": "code",
   "execution_count": null,
   "id": "92b43346-19ee-406b-870e-7071d2962893",
   "metadata": {},
   "outputs": [],
   "source": []
  }
 ],
 "metadata": {
  "kernelspec": {
   "display_name": "Python 3 (ipykernel)",
   "language": "python",
   "name": "python3"
  },
  "language_info": {
   "codemirror_mode": {
    "name": "ipython",
    "version": 3
   },
   "file_extension": ".py",
   "mimetype": "text/x-python",
   "name": "python",
   "nbconvert_exporter": "python",
   "pygments_lexer": "ipython3",
   "version": "3.12.4"
  }
 },
 "nbformat": 4,
 "nbformat_minor": 5
}
